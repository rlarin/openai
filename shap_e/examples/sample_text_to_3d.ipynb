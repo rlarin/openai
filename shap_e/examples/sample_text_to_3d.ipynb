{
  "cells": [
    {
      "cell_type": "markdown",
      "metadata": {
        "id": "view-in-github",
        "colab_type": "text"
      },
      "source": [
        "<a href=\"https://colab.research.google.com/github/rlarin/openai/blob/main/shap_e/examples/sample_text_to_3d.ipynb\" target=\"_parent\"><img src=\"https://colab.research.google.com/assets/colab-badge.svg\" alt=\"Open In Colab\"/></a>"
      ]
    },
    {
      "cell_type": "code",
      "source": [
        "! git clone https://github.com/openai/shap-e"
      ],
      "metadata": {
        "id": "fBirsuEilVRG",
        "outputId": "d1483704-f72b-430d-e532-7d37fba1d07e",
        "colab": {
          "base_uri": "https://localhost:8080/"
        }
      },
      "id": "fBirsuEilVRG",
      "execution_count": 1,
      "outputs": [
        {
          "output_type": "stream",
          "name": "stdout",
          "text": [
            "Cloning into 'shap-e'...\n",
            "remote: Enumerating objects: 322, done.\u001b[K\n",
            "remote: Counting objects: 100% (48/48), done.\u001b[K\n",
            "remote: Compressing objects: 100% (33/33), done.\u001b[K\n",
            "remote: Total 322 (delta 31), reused 15 (delta 15), pack-reused 274\u001b[K\n",
            "Receiving objects: 100% (322/322), 11.71 MiB | 6.29 MiB/s, done.\n",
            "Resolving deltas: 100% (45/45), done.\n"
          ]
        }
      ]
    },
    {
      "cell_type": "code",
      "source": [
        "%cd shap-e/"
      ],
      "metadata": {
        "id": "cAvnQPQxlhNL",
        "outputId": "5f1360e5-eea7-462a-8009-772dc584598d",
        "colab": {
          "base_uri": "https://localhost:8080/"
        }
      },
      "id": "cAvnQPQxlhNL",
      "execution_count": 2,
      "outputs": [
        {
          "output_type": "stream",
          "name": "stdout",
          "text": [
            "/content/shap-e\n"
          ]
        }
      ]
    },
    {
      "cell_type": "code",
      "source": [
        "pip install -e ."
      ],
      "metadata": {
        "id": "RDSaUYo5lvfG",
        "outputId": "0ab95e22-4110-4905-f3fb-1cffc44cf572",
        "colab": {
          "base_uri": "https://localhost:8080/"
        }
      },
      "id": "RDSaUYo5lvfG",
      "execution_count": 3,
      "outputs": [
        {
          "output_type": "stream",
          "name": "stdout",
          "text": [
            "Looking in indexes: https://pypi.org/simple, https://us-python.pkg.dev/colab-wheels/public/simple/\n",
            "Obtaining file:///content/shap-e\n",
            "  Preparing metadata (setup.py) ... \u001b[?25l\u001b[?25hdone\n",
            "Collecting clip@ git+https://github.com/openai/CLIP.git (from shap-e==0.0.0)\n",
            "  Cloning https://github.com/openai/CLIP.git to /tmp/pip-install-yo8n3xpz/clip_d3721e0cd1ac4a4fa8728845c42dca18\n",
            "  Running command git clone --filter=blob:none --quiet https://github.com/openai/CLIP.git /tmp/pip-install-yo8n3xpz/clip_d3721e0cd1ac4a4fa8728845c42dca18\n",
            "  Resolved https://github.com/openai/CLIP.git to commit a9b1bf5920416aaeaec965c25dd9e8f98c864f16\n",
            "  Preparing metadata (setup.py) ... \u001b[?25l\u001b[?25hdone\n",
            "Requirement already satisfied: filelock in /usr/local/lib/python3.10/dist-packages (from shap-e==0.0.0) (3.12.0)\n",
            "Requirement already satisfied: Pillow in /usr/local/lib/python3.10/dist-packages (from shap-e==0.0.0) (8.4.0)\n",
            "Requirement already satisfied: torch in /usr/local/lib/python3.10/dist-packages (from shap-e==0.0.0) (2.0.1+cu118)\n",
            "Collecting fire (from shap-e==0.0.0)\n",
            "  Downloading fire-0.5.0.tar.gz (88 kB)\n",
            "\u001b[2K     \u001b[90m━━━━━━━━━━━━━━━━━━━━━━━━━━━━━━━━━━━━━━━━\u001b[0m \u001b[32m88.3/88.3 kB\u001b[0m \u001b[31m12.9 MB/s\u001b[0m eta \u001b[36m0:00:00\u001b[0m\n",
            "\u001b[?25h  Preparing metadata (setup.py) ... \u001b[?25l\u001b[?25hdone\n",
            "Requirement already satisfied: humanize in /usr/local/lib/python3.10/dist-packages (from shap-e==0.0.0) (4.6.0)\n",
            "Requirement already satisfied: requests in /usr/local/lib/python3.10/dist-packages (from shap-e==0.0.0) (2.27.1)\n",
            "Requirement already satisfied: tqdm in /usr/local/lib/python3.10/dist-packages (from shap-e==0.0.0) (4.65.0)\n",
            "Requirement already satisfied: matplotlib in /usr/local/lib/python3.10/dist-packages (from shap-e==0.0.0) (3.7.1)\n",
            "Requirement already satisfied: scikit-image in /usr/local/lib/python3.10/dist-packages (from shap-e==0.0.0) (0.19.3)\n",
            "Requirement already satisfied: scipy in /usr/local/lib/python3.10/dist-packages (from shap-e==0.0.0) (1.10.1)\n",
            "Requirement already satisfied: numpy in /usr/local/lib/python3.10/dist-packages (from shap-e==0.0.0) (1.22.4)\n",
            "Collecting blobfile (from shap-e==0.0.0)\n",
            "  Downloading blobfile-2.0.2-py3-none-any.whl (74 kB)\n",
            "\u001b[2K     \u001b[90m━━━━━━━━━━━━━━━━━━━━━━━━━━━━━━━━━━━━━━━━\u001b[0m \u001b[32m74.5/74.5 kB\u001b[0m \u001b[31m11.0 MB/s\u001b[0m eta \u001b[36m0:00:00\u001b[0m\n",
            "\u001b[?25hCollecting pycryptodomex~=3.8 (from blobfile->shap-e==0.0.0)\n",
            "  Downloading pycryptodomex-3.18.0-cp35-abi3-manylinux_2_17_x86_64.manylinux2014_x86_64.whl (2.1 MB)\n",
            "\u001b[2K     \u001b[90m━━━━━━━━━━━━━━━━━━━━━━━━━━━━━━━━━━━━━━━━\u001b[0m \u001b[32m2.1/2.1 MB\u001b[0m \u001b[31m100.9 MB/s\u001b[0m eta \u001b[36m0:00:00\u001b[0m\n",
            "\u001b[?25hRequirement already satisfied: urllib3<3,>=1.25.3 in /usr/local/lib/python3.10/dist-packages (from blobfile->shap-e==0.0.0) (1.26.15)\n",
            "Requirement already satisfied: lxml~=4.9 in /usr/local/lib/python3.10/dist-packages (from blobfile->shap-e==0.0.0) (4.9.2)\n",
            "Collecting ftfy (from clip@ git+https://github.com/openai/CLIP.git->shap-e==0.0.0)\n",
            "  Downloading ftfy-6.1.1-py3-none-any.whl (53 kB)\n",
            "\u001b[2K     \u001b[90m━━━━━━━━━━━━━━━━━━━━━━━━━━━━━━━━━━━━━━━━\u001b[0m \u001b[32m53.1/53.1 kB\u001b[0m \u001b[31m8.8 MB/s\u001b[0m eta \u001b[36m0:00:00\u001b[0m\n",
            "\u001b[?25hRequirement already satisfied: regex in /usr/local/lib/python3.10/dist-packages (from clip@ git+https://github.com/openai/CLIP.git->shap-e==0.0.0) (2022.10.31)\n",
            "Requirement already satisfied: torchvision in /usr/local/lib/python3.10/dist-packages (from clip@ git+https://github.com/openai/CLIP.git->shap-e==0.0.0) (0.15.2+cu118)\n",
            "Requirement already satisfied: six in /usr/local/lib/python3.10/dist-packages (from fire->shap-e==0.0.0) (1.16.0)\n",
            "Requirement already satisfied: termcolor in /usr/local/lib/python3.10/dist-packages (from fire->shap-e==0.0.0) (2.3.0)\n",
            "Requirement already satisfied: contourpy>=1.0.1 in /usr/local/lib/python3.10/dist-packages (from matplotlib->shap-e==0.0.0) (1.0.7)\n",
            "Requirement already satisfied: cycler>=0.10 in /usr/local/lib/python3.10/dist-packages (from matplotlib->shap-e==0.0.0) (0.11.0)\n",
            "Requirement already satisfied: fonttools>=4.22.0 in /usr/local/lib/python3.10/dist-packages (from matplotlib->shap-e==0.0.0) (4.39.3)\n",
            "Requirement already satisfied: kiwisolver>=1.0.1 in /usr/local/lib/python3.10/dist-packages (from matplotlib->shap-e==0.0.0) (1.4.4)\n",
            "Requirement already satisfied: packaging>=20.0 in /usr/local/lib/python3.10/dist-packages (from matplotlib->shap-e==0.0.0) (23.1)\n",
            "Requirement already satisfied: pyparsing>=2.3.1 in /usr/local/lib/python3.10/dist-packages (from matplotlib->shap-e==0.0.0) (3.0.9)\n",
            "Requirement already satisfied: python-dateutil>=2.7 in /usr/local/lib/python3.10/dist-packages (from matplotlib->shap-e==0.0.0) (2.8.2)\n",
            "Requirement already satisfied: certifi>=2017.4.17 in /usr/local/lib/python3.10/dist-packages (from requests->shap-e==0.0.0) (2022.12.7)\n",
            "Requirement already satisfied: charset-normalizer~=2.0.0 in /usr/local/lib/python3.10/dist-packages (from requests->shap-e==0.0.0) (2.0.12)\n",
            "Requirement already satisfied: idna<4,>=2.5 in /usr/local/lib/python3.10/dist-packages (from requests->shap-e==0.0.0) (3.4)\n",
            "Requirement already satisfied: networkx>=2.2 in /usr/local/lib/python3.10/dist-packages (from scikit-image->shap-e==0.0.0) (3.1)\n",
            "Requirement already satisfied: imageio>=2.4.1 in /usr/local/lib/python3.10/dist-packages (from scikit-image->shap-e==0.0.0) (2.25.1)\n",
            "Requirement already satisfied: tifffile>=2019.7.26 in /usr/local/lib/python3.10/dist-packages (from scikit-image->shap-e==0.0.0) (2023.4.12)\n",
            "Requirement already satisfied: PyWavelets>=1.1.1 in /usr/local/lib/python3.10/dist-packages (from scikit-image->shap-e==0.0.0) (1.4.1)\n",
            "Requirement already satisfied: typing-extensions in /usr/local/lib/python3.10/dist-packages (from torch->shap-e==0.0.0) (4.5.0)\n",
            "Requirement already satisfied: sympy in /usr/local/lib/python3.10/dist-packages (from torch->shap-e==0.0.0) (1.11.1)\n",
            "Requirement already satisfied: jinja2 in /usr/local/lib/python3.10/dist-packages (from torch->shap-e==0.0.0) (3.1.2)\n",
            "Requirement already satisfied: triton==2.0.0 in /usr/local/lib/python3.10/dist-packages (from torch->shap-e==0.0.0) (2.0.0)\n",
            "Requirement already satisfied: cmake in /usr/local/lib/python3.10/dist-packages (from triton==2.0.0->torch->shap-e==0.0.0) (3.25.2)\n",
            "Requirement already satisfied: lit in /usr/local/lib/python3.10/dist-packages (from triton==2.0.0->torch->shap-e==0.0.0) (16.0.5)\n",
            "Requirement already satisfied: wcwidth>=0.2.5 in /usr/local/lib/python3.10/dist-packages (from ftfy->clip@ git+https://github.com/openai/CLIP.git->shap-e==0.0.0) (0.2.6)\n",
            "Requirement already satisfied: MarkupSafe>=2.0 in /usr/local/lib/python3.10/dist-packages (from jinja2->torch->shap-e==0.0.0) (2.1.2)\n",
            "Requirement already satisfied: mpmath>=0.19 in /usr/local/lib/python3.10/dist-packages (from sympy->torch->shap-e==0.0.0) (1.3.0)\n",
            "Building wheels for collected packages: clip, fire\n",
            "  Building wheel for clip (setup.py) ... \u001b[?25l\u001b[?25hdone\n",
            "  Created wheel for clip: filename=clip-1.0-py3-none-any.whl size=1369370 sha256=068be2c4db50254195f22b28a09306cfd8e5ee0e29de4893e17b090657c49a68\n",
            "  Stored in directory: /tmp/pip-ephem-wheel-cache-gzxn0fam/wheels/da/2b/4c/d6691fa9597aac8bb85d2ac13b112deb897d5b50f5ad9a37e4\n",
            "  Building wheel for fire (setup.py) ... \u001b[?25l\u001b[?25hdone\n",
            "  Created wheel for fire: filename=fire-0.5.0-py2.py3-none-any.whl size=116932 sha256=b16b3a581b4dda3fe8296c2065aff62f713b2bc42dabfc1efb60912f67038b40\n",
            "  Stored in directory: /root/.cache/pip/wheels/90/d4/f7/9404e5db0116bd4d43e5666eaa3e70ab53723e1e3ea40c9a95\n",
            "Successfully built clip fire\n",
            "Installing collected packages: pycryptodomex, ftfy, fire, blobfile, clip, shap-e\n",
            "  Running setup.py develop for shap-e\n",
            "Successfully installed blobfile-2.0.2 clip-1.0 fire-0.5.0 ftfy-6.1.1 pycryptodomex-3.18.0 shap-e-0.0.0\n"
          ]
        }
      ]
    },
    {
      "cell_type": "code",
      "execution_count": 4,
      "id": "964ccced",
      "metadata": {
        "id": "964ccced"
      },
      "outputs": [],
      "source": [
        "import torch\n",
        "\n",
        "from shap_e.diffusion.sample import sample_latents\n",
        "from shap_e.diffusion.gaussian_diffusion import diffusion_from_config\n",
        "from shap_e.models.download import load_model, load_config\n",
        "from shap_e.util.notebooks import create_pan_cameras, decode_latent_images, gif_widget"
      ]
    },
    {
      "cell_type": "code",
      "execution_count": 5,
      "id": "8eed3a76",
      "metadata": {
        "id": "8eed3a76"
      },
      "outputs": [],
      "source": [
        "device = torch.device('cuda' if torch.cuda.is_available() else 'cpu')"
      ]
    },
    {
      "cell_type": "code",
      "execution_count": 6,
      "id": "2d922637",
      "metadata": {
        "id": "2d922637",
        "outputId": "6020623f-dfea-4c36-9ed5-5c490aad258e",
        "colab": {
          "base_uri": "https://localhost:8080/",
          "height": 98,
          "referenced_widgets": [
            "392f1aa3e2564e1098235a933f6deb7d",
            "f8259004435a45d08197aea4c0f09a8a",
            "e299fb2b81e34fc2a7ef059091d656a0",
            "429424e8beb542d097bba7b1eba94b3e",
            "8dc8f28615a94cdb9eff9add3beba1d5",
            "fa1f0a921ed349199abe2a2f40017a26",
            "2be1a25228e644a6b2a16ad583a9f1bd",
            "51893118f0f04b488ca7a7dc0c59a646",
            "1a14f45ce8bc4479a5730fd43faf5a79",
            "8544867384f747c7ba888d5960b5bd05",
            "10919d23aabe457a90e9b0e4474088d1",
            "9ebae0dbecff4dbfadb1cced46aa3374",
            "d1f3223b61724788b842138802306995",
            "3ff8c7e3d2e04b1586e6903c30d229e5",
            "bb1145c1b7ac47eb97adde6dfc79909d",
            "f3b8b3cd88154352afbee4a6487eb5a2",
            "a1365dd4b52a404588e8acee89ce841f",
            "9992d66266a94d94bec63d59e77d2985",
            "dc47762c133e4dc1853fe2882ea6e83d",
            "3fb50ff8b2734880911f6d704fd83f51",
            "2ec96d60ec8842128aaf167db37005b1",
            "9320ab382b384544883590acc67cb143"
          ]
        }
      },
      "outputs": [
        {
          "output_type": "display_data",
          "data": {
            "text/plain": [
              "  0%|          | 0.00/1.78G [00:00<?, ?iB/s]"
            ],
            "application/vnd.jupyter.widget-view+json": {
              "version_major": 2,
              "version_minor": 0,
              "model_id": "392f1aa3e2564e1098235a933f6deb7d"
            }
          },
          "metadata": {}
        },
        {
          "output_type": "stream",
          "name": "stderr",
          "text": [
            "100%|███████████████████████████████████████| 890M/890M [00:17<00:00, 54.2MiB/s]\n"
          ]
        },
        {
          "output_type": "display_data",
          "data": {
            "text/plain": [
              "  0%|          | 0.00/1.26G [00:00<?, ?iB/s]"
            ],
            "application/vnd.jupyter.widget-view+json": {
              "version_major": 2,
              "version_minor": 0,
              "model_id": "9ebae0dbecff4dbfadb1cced46aa3374"
            }
          },
          "metadata": {}
        }
      ],
      "source": [
        "xm = load_model('transmitter', device=device)\n",
        "model = load_model('text300M', device=device)\n",
        "diffusion = diffusion_from_config(load_config('diffusion'))"
      ]
    },
    {
      "cell_type": "code",
      "execution_count": 7,
      "id": "53d329d0",
      "metadata": {
        "id": "53d329d0",
        "outputId": "871777ee-3fbb-45f1-dbe4-5790f9a514ac",
        "colab": {
          "base_uri": "https://localhost:8080/",
          "height": 49,
          "referenced_widgets": [
            "f6fcd45c3c8c4773aa5571cd7460e2cf",
            "e4c0a068202f4285ac7d2603d0b58b2a",
            "17ead5cddbd8426a80efc82a8d12e2a0",
            "a1088cb794d74a32b808993536399b77",
            "16d3210693994b18ad35768cfd9a518f",
            "b8f712822d2e416dabc419c3a0731cb1",
            "c2e9c4884e0f41dc937ce904f68530ce",
            "5d009b6bf2e3463786132fb2612c27d2",
            "ae1b466829e24b61bb02a233f7e1795d",
            "26f3a0fa6e07480d8e465852cc92bc6b",
            "022dd9f190b848b2a37a122826e53918"
          ]
        }
      },
      "outputs": [
        {
          "output_type": "display_data",
          "data": {
            "text/plain": [
              "  0%|          | 0/64 [00:00<?, ?it/s]"
            ],
            "application/vnd.jupyter.widget-view+json": {
              "version_major": 2,
              "version_minor": 0,
              "model_id": "f6fcd45c3c8c4773aa5571cd7460e2cf"
            }
          },
          "metadata": {}
        }
      ],
      "source": [
        "batch_size = 4\n",
        "guidance_scale = 15.0\n",
        "prompt = \"a blue cylinder\"\n",
        "\n",
        "latents = sample_latents(\n",
        "    batch_size=batch_size,\n",
        "    model=model,\n",
        "    diffusion=diffusion,\n",
        "    guidance_scale=guidance_scale,\n",
        "    model_kwargs=dict(texts=[prompt] * batch_size),\n",
        "    progress=True,\n",
        "    clip_denoised=True,\n",
        "    use_fp16=True,\n",
        "    use_karras=True,\n",
        "    karras_steps=64,\n",
        "    sigma_min=1e-3,\n",
        "    sigma_max=160,\n",
        "    s_churn=0,\n",
        ")"
      ]
    },
    {
      "cell_type": "code",
      "execution_count": 8,
      "id": "633da2ec",
      "metadata": {
        "id": "633da2ec",
        "outputId": "1483aa5b-fd1c-45a8-8489-4e7449795192",
        "colab": {
          "base_uri": "https://localhost:8080/",
          "height": 323,
          "referenced_widgets": [
            "f98fc0d923534d398cb6a59ab956af5a",
            "2235a6c0188e4702bd64cb08623293a2",
            "d503b6594e394da180d795f0dcf7e371",
            "c09dd60cdfe142f7abfd352f3408f05b",
            "a3fd458f87944efab66c65583314c010",
            "63e153f99b3d42b9afa7459ca11dfed1",
            "3155ca56f8684a03bf947b9bda880ef3",
            "c56f5fa43a1545b385d95af4998fd291",
            "0a98cf214f7a4114a78e4ea4a47942ae",
            "ba26492b5a574c70b6e01be9b5b8e2b6",
            "c6957073ed024a828af4acdb1af583b0",
            "e98578d4da714c96b9defee2decfbbf3"
          ]
        }
      },
      "outputs": [
        {
          "output_type": "display_data",
          "data": {
            "text/plain": [
              "HTML(value='<img src=\"data:image/gif;base64,R0lGODlhQABAAIMAAAAAADMAAAAAMwAzMwAAZgAzZgBmZgAzmTMzmQBmmTNmmQAzzD…"
            ],
            "application/vnd.jupyter.widget-view+json": {
              "version_major": 2,
              "version_minor": 0,
              "model_id": "f98fc0d923534d398cb6a59ab956af5a"
            }
          },
          "metadata": {}
        },
        {
          "output_type": "display_data",
          "data": {
            "text/plain": [
              "HTML(value='<img src=\"data:image/gif;base64,R0lGODlhQABAAIIAAAAAAAAAMwAAZgAAmQAAzAAA/wAAAAAAACH5BAAKAAAAIf8LTk…"
            ],
            "application/vnd.jupyter.widget-view+json": {
              "version_major": 2,
              "version_minor": 0,
              "model_id": "c09dd60cdfe142f7abfd352f3408f05b"
            }
          },
          "metadata": {}
        },
        {
          "output_type": "display_data",
          "data": {
            "text/plain": [
              "HTML(value='<img src=\"data:image/gif;base64,R0lGODlhQABAAIIAAAAAAAAAMwAAZgAAmQAzmQAAzAAzzAAA/yH5BAAKAAAAIf8LTk…"
            ],
            "application/vnd.jupyter.widget-view+json": {
              "version_major": 2,
              "version_minor": 0,
              "model_id": "3155ca56f8684a03bf947b9bda880ef3"
            }
          },
          "metadata": {}
        },
        {
          "output_type": "display_data",
          "data": {
            "text/plain": [
              "HTML(value='<img src=\"data:image/gif;base64,R0lGODlhQABAAIMAAAAAAAAAMwAzMwAAZgAzZgAAmQAzmTMzmQBmmTNmmQAzzDMzzA…"
            ],
            "application/vnd.jupyter.widget-view+json": {
              "version_major": 2,
              "version_minor": 0,
              "model_id": "ba26492b5a574c70b6e01be9b5b8e2b6"
            }
          },
          "metadata": {}
        }
      ],
      "source": [
        "render_mode = 'nerf' # you can change this to 'stf'\n",
        "size = 64 # this is the size of the renders; higher values take longer to render.\n",
        "\n",
        "cameras = create_pan_cameras(size, device)\n",
        "for i, latent in enumerate(latents):\n",
        "    images = decode_latent_images(xm, latent, cameras, rendering_mode=render_mode)\n",
        "    display(gif_widget(images))"
      ]
    },
    {
      "cell_type": "code",
      "execution_count": 9,
      "id": "85a4dce4",
      "metadata": {
        "id": "85a4dce4",
        "outputId": "e19ce486-f280-4482-9b3b-27e743db7987",
        "colab": {
          "base_uri": "https://localhost:8080/"
        }
      },
      "outputs": [
        {
          "output_type": "stream",
          "name": "stderr",
          "text": [
            "/content/shap-e/shap_e/models/stf/renderer.py:286: UserWarning: exception rendering with PyTorch3D: No module named 'pytorch3d'\n",
            "  warnings.warn(f\"exception rendering with PyTorch3D: {exc}\")\n",
            "/content/shap-e/shap_e/models/stf/renderer.py:287: UserWarning: falling back on native PyTorch renderer, which does not support full gradients\n",
            "  warnings.warn(\n"
          ]
        }
      ],
      "source": [
        "# Example of saving the latents as meshes.\n",
        "from shap_e.util.notebooks import decode_latent_mesh\n",
        "\n",
        "for i, latent in enumerate(latents):\n",
        "    t = decode_latent_mesh(xm, latent).tri_mesh()\n",
        "    with open(f'example_mesh_{i}.ply', 'wb') as f:\n",
        "        t.write_ply(f)\n",
        "    with open(f'example_mesh_{i}.obj', 'w') as f:\n",
        "        t.write_obj(f)"
      ]
    }
  ],
  "metadata": {
    "kernelspec": {
      "display_name": "Python 3",
      "name": "python3"
    },
    "language_info": {
      "codemirror_mode": {
        "name": "ipython",
        "version": 3
      },
      "file_extension": ".py",
      "mimetype": "text/x-python",
      "name": "python",
      "nbconvert_exporter": "python",
      "pygments_lexer": "ipython3",
      "version": "3.11.3"
    },
    "colab": {
      "provenance": [],
      "gpuType": "T4",
      "include_colab_link": true
    },
    "accelerator": "GPU",
    "widgets": {
      "application/vnd.jupyter.widget-state+json": {
        "392f1aa3e2564e1098235a933f6deb7d": {
          "model_module": "@jupyter-widgets/controls",
          "model_name": "HBoxModel",
          "model_module_version": "1.5.0",
          "state": {
            "_dom_classes": [],
            "_model_module": "@jupyter-widgets/controls",
            "_model_module_version": "1.5.0",
            "_model_name": "HBoxModel",
            "_view_count": null,
            "_view_module": "@jupyter-widgets/controls",
            "_view_module_version": "1.5.0",
            "_view_name": "HBoxView",
            "box_style": "",
            "children": [
              "IPY_MODEL_f8259004435a45d08197aea4c0f09a8a",
              "IPY_MODEL_e299fb2b81e34fc2a7ef059091d656a0",
              "IPY_MODEL_429424e8beb542d097bba7b1eba94b3e"
            ],
            "layout": "IPY_MODEL_8dc8f28615a94cdb9eff9add3beba1d5"
          }
        },
        "f8259004435a45d08197aea4c0f09a8a": {
          "model_module": "@jupyter-widgets/controls",
          "model_name": "HTMLModel",
          "model_module_version": "1.5.0",
          "state": {
            "_dom_classes": [],
            "_model_module": "@jupyter-widgets/controls",
            "_model_module_version": "1.5.0",
            "_model_name": "HTMLModel",
            "_view_count": null,
            "_view_module": "@jupyter-widgets/controls",
            "_view_module_version": "1.5.0",
            "_view_name": "HTMLView",
            "description": "",
            "description_tooltip": null,
            "layout": "IPY_MODEL_fa1f0a921ed349199abe2a2f40017a26",
            "placeholder": "​",
            "style": "IPY_MODEL_2be1a25228e644a6b2a16ad583a9f1bd",
            "value": "100%"
          }
        },
        "e299fb2b81e34fc2a7ef059091d656a0": {
          "model_module": "@jupyter-widgets/controls",
          "model_name": "FloatProgressModel",
          "model_module_version": "1.5.0",
          "state": {
            "_dom_classes": [],
            "_model_module": "@jupyter-widgets/controls",
            "_model_module_version": "1.5.0",
            "_model_name": "FloatProgressModel",
            "_view_count": null,
            "_view_module": "@jupyter-widgets/controls",
            "_view_module_version": "1.5.0",
            "_view_name": "ProgressView",
            "bar_style": "success",
            "description": "",
            "description_tooltip": null,
            "layout": "IPY_MODEL_51893118f0f04b488ca7a7dc0c59a646",
            "max": 1776048343,
            "min": 0,
            "orientation": "horizontal",
            "style": "IPY_MODEL_1a14f45ce8bc4479a5730fd43faf5a79",
            "value": 1776048343
          }
        },
        "429424e8beb542d097bba7b1eba94b3e": {
          "model_module": "@jupyter-widgets/controls",
          "model_name": "HTMLModel",
          "model_module_version": "1.5.0",
          "state": {
            "_dom_classes": [],
            "_model_module": "@jupyter-widgets/controls",
            "_model_module_version": "1.5.0",
            "_model_name": "HTMLModel",
            "_view_count": null,
            "_view_module": "@jupyter-widgets/controls",
            "_view_module_version": "1.5.0",
            "_view_name": "HTMLView",
            "description": "",
            "description_tooltip": null,
            "layout": "IPY_MODEL_8544867384f747c7ba888d5960b5bd05",
            "placeholder": "​",
            "style": "IPY_MODEL_10919d23aabe457a90e9b0e4474088d1",
            "value": " 1.78G/1.78G [00:47&lt;00:00, 57.8MiB/s]"
          }
        },
        "8dc8f28615a94cdb9eff9add3beba1d5": {
          "model_module": "@jupyter-widgets/base",
          "model_name": "LayoutModel",
          "model_module_version": "1.2.0",
          "state": {
            "_model_module": "@jupyter-widgets/base",
            "_model_module_version": "1.2.0",
            "_model_name": "LayoutModel",
            "_view_count": null,
            "_view_module": "@jupyter-widgets/base",
            "_view_module_version": "1.2.0",
            "_view_name": "LayoutView",
            "align_content": null,
            "align_items": null,
            "align_self": null,
            "border": null,
            "bottom": null,
            "display": null,
            "flex": null,
            "flex_flow": null,
            "grid_area": null,
            "grid_auto_columns": null,
            "grid_auto_flow": null,
            "grid_auto_rows": null,
            "grid_column": null,
            "grid_gap": null,
            "grid_row": null,
            "grid_template_areas": null,
            "grid_template_columns": null,
            "grid_template_rows": null,
            "height": null,
            "justify_content": null,
            "justify_items": null,
            "left": null,
            "margin": null,
            "max_height": null,
            "max_width": null,
            "min_height": null,
            "min_width": null,
            "object_fit": null,
            "object_position": null,
            "order": null,
            "overflow": null,
            "overflow_x": null,
            "overflow_y": null,
            "padding": null,
            "right": null,
            "top": null,
            "visibility": null,
            "width": null
          }
        },
        "fa1f0a921ed349199abe2a2f40017a26": {
          "model_module": "@jupyter-widgets/base",
          "model_name": "LayoutModel",
          "model_module_version": "1.2.0",
          "state": {
            "_model_module": "@jupyter-widgets/base",
            "_model_module_version": "1.2.0",
            "_model_name": "LayoutModel",
            "_view_count": null,
            "_view_module": "@jupyter-widgets/base",
            "_view_module_version": "1.2.0",
            "_view_name": "LayoutView",
            "align_content": null,
            "align_items": null,
            "align_self": null,
            "border": null,
            "bottom": null,
            "display": null,
            "flex": null,
            "flex_flow": null,
            "grid_area": null,
            "grid_auto_columns": null,
            "grid_auto_flow": null,
            "grid_auto_rows": null,
            "grid_column": null,
            "grid_gap": null,
            "grid_row": null,
            "grid_template_areas": null,
            "grid_template_columns": null,
            "grid_template_rows": null,
            "height": null,
            "justify_content": null,
            "justify_items": null,
            "left": null,
            "margin": null,
            "max_height": null,
            "max_width": null,
            "min_height": null,
            "min_width": null,
            "object_fit": null,
            "object_position": null,
            "order": null,
            "overflow": null,
            "overflow_x": null,
            "overflow_y": null,
            "padding": null,
            "right": null,
            "top": null,
            "visibility": null,
            "width": null
          }
        },
        "2be1a25228e644a6b2a16ad583a9f1bd": {
          "model_module": "@jupyter-widgets/controls",
          "model_name": "DescriptionStyleModel",
          "model_module_version": "1.5.0",
          "state": {
            "_model_module": "@jupyter-widgets/controls",
            "_model_module_version": "1.5.0",
            "_model_name": "DescriptionStyleModel",
            "_view_count": null,
            "_view_module": "@jupyter-widgets/base",
            "_view_module_version": "1.2.0",
            "_view_name": "StyleView",
            "description_width": ""
          }
        },
        "51893118f0f04b488ca7a7dc0c59a646": {
          "model_module": "@jupyter-widgets/base",
          "model_name": "LayoutModel",
          "model_module_version": "1.2.0",
          "state": {
            "_model_module": "@jupyter-widgets/base",
            "_model_module_version": "1.2.0",
            "_model_name": "LayoutModel",
            "_view_count": null,
            "_view_module": "@jupyter-widgets/base",
            "_view_module_version": "1.2.0",
            "_view_name": "LayoutView",
            "align_content": null,
            "align_items": null,
            "align_self": null,
            "border": null,
            "bottom": null,
            "display": null,
            "flex": null,
            "flex_flow": null,
            "grid_area": null,
            "grid_auto_columns": null,
            "grid_auto_flow": null,
            "grid_auto_rows": null,
            "grid_column": null,
            "grid_gap": null,
            "grid_row": null,
            "grid_template_areas": null,
            "grid_template_columns": null,
            "grid_template_rows": null,
            "height": null,
            "justify_content": null,
            "justify_items": null,
            "left": null,
            "margin": null,
            "max_height": null,
            "max_width": null,
            "min_height": null,
            "min_width": null,
            "object_fit": null,
            "object_position": null,
            "order": null,
            "overflow": null,
            "overflow_x": null,
            "overflow_y": null,
            "padding": null,
            "right": null,
            "top": null,
            "visibility": null,
            "width": null
          }
        },
        "1a14f45ce8bc4479a5730fd43faf5a79": {
          "model_module": "@jupyter-widgets/controls",
          "model_name": "ProgressStyleModel",
          "model_module_version": "1.5.0",
          "state": {
            "_model_module": "@jupyter-widgets/controls",
            "_model_module_version": "1.5.0",
            "_model_name": "ProgressStyleModel",
            "_view_count": null,
            "_view_module": "@jupyter-widgets/base",
            "_view_module_version": "1.2.0",
            "_view_name": "StyleView",
            "bar_color": null,
            "description_width": ""
          }
        },
        "8544867384f747c7ba888d5960b5bd05": {
          "model_module": "@jupyter-widgets/base",
          "model_name": "LayoutModel",
          "model_module_version": "1.2.0",
          "state": {
            "_model_module": "@jupyter-widgets/base",
            "_model_module_version": "1.2.0",
            "_model_name": "LayoutModel",
            "_view_count": null,
            "_view_module": "@jupyter-widgets/base",
            "_view_module_version": "1.2.0",
            "_view_name": "LayoutView",
            "align_content": null,
            "align_items": null,
            "align_self": null,
            "border": null,
            "bottom": null,
            "display": null,
            "flex": null,
            "flex_flow": null,
            "grid_area": null,
            "grid_auto_columns": null,
            "grid_auto_flow": null,
            "grid_auto_rows": null,
            "grid_column": null,
            "grid_gap": null,
            "grid_row": null,
            "grid_template_areas": null,
            "grid_template_columns": null,
            "grid_template_rows": null,
            "height": null,
            "justify_content": null,
            "justify_items": null,
            "left": null,
            "margin": null,
            "max_height": null,
            "max_width": null,
            "min_height": null,
            "min_width": null,
            "object_fit": null,
            "object_position": null,
            "order": null,
            "overflow": null,
            "overflow_x": null,
            "overflow_y": null,
            "padding": null,
            "right": null,
            "top": null,
            "visibility": null,
            "width": null
          }
        },
        "10919d23aabe457a90e9b0e4474088d1": {
          "model_module": "@jupyter-widgets/controls",
          "model_name": "DescriptionStyleModel",
          "model_module_version": "1.5.0",
          "state": {
            "_model_module": "@jupyter-widgets/controls",
            "_model_module_version": "1.5.0",
            "_model_name": "DescriptionStyleModel",
            "_view_count": null,
            "_view_module": "@jupyter-widgets/base",
            "_view_module_version": "1.2.0",
            "_view_name": "StyleView",
            "description_width": ""
          }
        },
        "9ebae0dbecff4dbfadb1cced46aa3374": {
          "model_module": "@jupyter-widgets/controls",
          "model_name": "HBoxModel",
          "model_module_version": "1.5.0",
          "state": {
            "_dom_classes": [],
            "_model_module": "@jupyter-widgets/controls",
            "_model_module_version": "1.5.0",
            "_model_name": "HBoxModel",
            "_view_count": null,
            "_view_module": "@jupyter-widgets/controls",
            "_view_module_version": "1.5.0",
            "_view_name": "HBoxView",
            "box_style": "",
            "children": [
              "IPY_MODEL_d1f3223b61724788b842138802306995",
              "IPY_MODEL_3ff8c7e3d2e04b1586e6903c30d229e5",
              "IPY_MODEL_bb1145c1b7ac47eb97adde6dfc79909d"
            ],
            "layout": "IPY_MODEL_f3b8b3cd88154352afbee4a6487eb5a2"
          }
        },
        "d1f3223b61724788b842138802306995": {
          "model_module": "@jupyter-widgets/controls",
          "model_name": "HTMLModel",
          "model_module_version": "1.5.0",
          "state": {
            "_dom_classes": [],
            "_model_module": "@jupyter-widgets/controls",
            "_model_module_version": "1.5.0",
            "_model_name": "HTMLModel",
            "_view_count": null,
            "_view_module": "@jupyter-widgets/controls",
            "_view_module_version": "1.5.0",
            "_view_name": "HTMLView",
            "description": "",
            "description_tooltip": null,
            "layout": "IPY_MODEL_a1365dd4b52a404588e8acee89ce841f",
            "placeholder": "​",
            "style": "IPY_MODEL_9992d66266a94d94bec63d59e77d2985",
            "value": "100%"
          }
        },
        "3ff8c7e3d2e04b1586e6903c30d229e5": {
          "model_module": "@jupyter-widgets/controls",
          "model_name": "FloatProgressModel",
          "model_module_version": "1.5.0",
          "state": {
            "_dom_classes": [],
            "_model_module": "@jupyter-widgets/controls",
            "_model_module_version": "1.5.0",
            "_model_name": "FloatProgressModel",
            "_view_count": null,
            "_view_module": "@jupyter-widgets/controls",
            "_view_module_version": "1.5.0",
            "_view_name": "ProgressView",
            "bar_style": "success",
            "description": "",
            "description_tooltip": null,
            "layout": "IPY_MODEL_dc47762c133e4dc1853fe2882ea6e83d",
            "max": 1262868003,
            "min": 0,
            "orientation": "horizontal",
            "style": "IPY_MODEL_3fb50ff8b2734880911f6d704fd83f51",
            "value": 1262868003
          }
        },
        "bb1145c1b7ac47eb97adde6dfc79909d": {
          "model_module": "@jupyter-widgets/controls",
          "model_name": "HTMLModel",
          "model_module_version": "1.5.0",
          "state": {
            "_dom_classes": [],
            "_model_module": "@jupyter-widgets/controls",
            "_model_module_version": "1.5.0",
            "_model_name": "HTMLModel",
            "_view_count": null,
            "_view_module": "@jupyter-widgets/controls",
            "_view_module_version": "1.5.0",
            "_view_name": "HTMLView",
            "description": "",
            "description_tooltip": null,
            "layout": "IPY_MODEL_2ec96d60ec8842128aaf167db37005b1",
            "placeholder": "​",
            "style": "IPY_MODEL_9320ab382b384544883590acc67cb143",
            "value": " 1.26G/1.26G [00:25&lt;00:00, 109MiB/s]"
          }
        },
        "f3b8b3cd88154352afbee4a6487eb5a2": {
          "model_module": "@jupyter-widgets/base",
          "model_name": "LayoutModel",
          "model_module_version": "1.2.0",
          "state": {
            "_model_module": "@jupyter-widgets/base",
            "_model_module_version": "1.2.0",
            "_model_name": "LayoutModel",
            "_view_count": null,
            "_view_module": "@jupyter-widgets/base",
            "_view_module_version": "1.2.0",
            "_view_name": "LayoutView",
            "align_content": null,
            "align_items": null,
            "align_self": null,
            "border": null,
            "bottom": null,
            "display": null,
            "flex": null,
            "flex_flow": null,
            "grid_area": null,
            "grid_auto_columns": null,
            "grid_auto_flow": null,
            "grid_auto_rows": null,
            "grid_column": null,
            "grid_gap": null,
            "grid_row": null,
            "grid_template_areas": null,
            "grid_template_columns": null,
            "grid_template_rows": null,
            "height": null,
            "justify_content": null,
            "justify_items": null,
            "left": null,
            "margin": null,
            "max_height": null,
            "max_width": null,
            "min_height": null,
            "min_width": null,
            "object_fit": null,
            "object_position": null,
            "order": null,
            "overflow": null,
            "overflow_x": null,
            "overflow_y": null,
            "padding": null,
            "right": null,
            "top": null,
            "visibility": null,
            "width": null
          }
        },
        "a1365dd4b52a404588e8acee89ce841f": {
          "model_module": "@jupyter-widgets/base",
          "model_name": "LayoutModel",
          "model_module_version": "1.2.0",
          "state": {
            "_model_module": "@jupyter-widgets/base",
            "_model_module_version": "1.2.0",
            "_model_name": "LayoutModel",
            "_view_count": null,
            "_view_module": "@jupyter-widgets/base",
            "_view_module_version": "1.2.0",
            "_view_name": "LayoutView",
            "align_content": null,
            "align_items": null,
            "align_self": null,
            "border": null,
            "bottom": null,
            "display": null,
            "flex": null,
            "flex_flow": null,
            "grid_area": null,
            "grid_auto_columns": null,
            "grid_auto_flow": null,
            "grid_auto_rows": null,
            "grid_column": null,
            "grid_gap": null,
            "grid_row": null,
            "grid_template_areas": null,
            "grid_template_columns": null,
            "grid_template_rows": null,
            "height": null,
            "justify_content": null,
            "justify_items": null,
            "left": null,
            "margin": null,
            "max_height": null,
            "max_width": null,
            "min_height": null,
            "min_width": null,
            "object_fit": null,
            "object_position": null,
            "order": null,
            "overflow": null,
            "overflow_x": null,
            "overflow_y": null,
            "padding": null,
            "right": null,
            "top": null,
            "visibility": null,
            "width": null
          }
        },
        "9992d66266a94d94bec63d59e77d2985": {
          "model_module": "@jupyter-widgets/controls",
          "model_name": "DescriptionStyleModel",
          "model_module_version": "1.5.0",
          "state": {
            "_model_module": "@jupyter-widgets/controls",
            "_model_module_version": "1.5.0",
            "_model_name": "DescriptionStyleModel",
            "_view_count": null,
            "_view_module": "@jupyter-widgets/base",
            "_view_module_version": "1.2.0",
            "_view_name": "StyleView",
            "description_width": ""
          }
        },
        "dc47762c133e4dc1853fe2882ea6e83d": {
          "model_module": "@jupyter-widgets/base",
          "model_name": "LayoutModel",
          "model_module_version": "1.2.0",
          "state": {
            "_model_module": "@jupyter-widgets/base",
            "_model_module_version": "1.2.0",
            "_model_name": "LayoutModel",
            "_view_count": null,
            "_view_module": "@jupyter-widgets/base",
            "_view_module_version": "1.2.0",
            "_view_name": "LayoutView",
            "align_content": null,
            "align_items": null,
            "align_self": null,
            "border": null,
            "bottom": null,
            "display": null,
            "flex": null,
            "flex_flow": null,
            "grid_area": null,
            "grid_auto_columns": null,
            "grid_auto_flow": null,
            "grid_auto_rows": null,
            "grid_column": null,
            "grid_gap": null,
            "grid_row": null,
            "grid_template_areas": null,
            "grid_template_columns": null,
            "grid_template_rows": null,
            "height": null,
            "justify_content": null,
            "justify_items": null,
            "left": null,
            "margin": null,
            "max_height": null,
            "max_width": null,
            "min_height": null,
            "min_width": null,
            "object_fit": null,
            "object_position": null,
            "order": null,
            "overflow": null,
            "overflow_x": null,
            "overflow_y": null,
            "padding": null,
            "right": null,
            "top": null,
            "visibility": null,
            "width": null
          }
        },
        "3fb50ff8b2734880911f6d704fd83f51": {
          "model_module": "@jupyter-widgets/controls",
          "model_name": "ProgressStyleModel",
          "model_module_version": "1.5.0",
          "state": {
            "_model_module": "@jupyter-widgets/controls",
            "_model_module_version": "1.5.0",
            "_model_name": "ProgressStyleModel",
            "_view_count": null,
            "_view_module": "@jupyter-widgets/base",
            "_view_module_version": "1.2.0",
            "_view_name": "StyleView",
            "bar_color": null,
            "description_width": ""
          }
        },
        "2ec96d60ec8842128aaf167db37005b1": {
          "model_module": "@jupyter-widgets/base",
          "model_name": "LayoutModel",
          "model_module_version": "1.2.0",
          "state": {
            "_model_module": "@jupyter-widgets/base",
            "_model_module_version": "1.2.0",
            "_model_name": "LayoutModel",
            "_view_count": null,
            "_view_module": "@jupyter-widgets/base",
            "_view_module_version": "1.2.0",
            "_view_name": "LayoutView",
            "align_content": null,
            "align_items": null,
            "align_self": null,
            "border": null,
            "bottom": null,
            "display": null,
            "flex": null,
            "flex_flow": null,
            "grid_area": null,
            "grid_auto_columns": null,
            "grid_auto_flow": null,
            "grid_auto_rows": null,
            "grid_column": null,
            "grid_gap": null,
            "grid_row": null,
            "grid_template_areas": null,
            "grid_template_columns": null,
            "grid_template_rows": null,
            "height": null,
            "justify_content": null,
            "justify_items": null,
            "left": null,
            "margin": null,
            "max_height": null,
            "max_width": null,
            "min_height": null,
            "min_width": null,
            "object_fit": null,
            "object_position": null,
            "order": null,
            "overflow": null,
            "overflow_x": null,
            "overflow_y": null,
            "padding": null,
            "right": null,
            "top": null,
            "visibility": null,
            "width": null
          }
        },
        "9320ab382b384544883590acc67cb143": {
          "model_module": "@jupyter-widgets/controls",
          "model_name": "DescriptionStyleModel",
          "model_module_version": "1.5.0",
          "state": {
            "_model_module": "@jupyter-widgets/controls",
            "_model_module_version": "1.5.0",
            "_model_name": "DescriptionStyleModel",
            "_view_count": null,
            "_view_module": "@jupyter-widgets/base",
            "_view_module_version": "1.2.0",
            "_view_name": "StyleView",
            "description_width": ""
          }
        },
        "f6fcd45c3c8c4773aa5571cd7460e2cf": {
          "model_module": "@jupyter-widgets/controls",
          "model_name": "HBoxModel",
          "model_module_version": "1.5.0",
          "state": {
            "_dom_classes": [],
            "_model_module": "@jupyter-widgets/controls",
            "_model_module_version": "1.5.0",
            "_model_name": "HBoxModel",
            "_view_count": null,
            "_view_module": "@jupyter-widgets/controls",
            "_view_module_version": "1.5.0",
            "_view_name": "HBoxView",
            "box_style": "",
            "children": [
              "IPY_MODEL_e4c0a068202f4285ac7d2603d0b58b2a",
              "IPY_MODEL_17ead5cddbd8426a80efc82a8d12e2a0",
              "IPY_MODEL_a1088cb794d74a32b808993536399b77"
            ],
            "layout": "IPY_MODEL_16d3210693994b18ad35768cfd9a518f"
          }
        },
        "e4c0a068202f4285ac7d2603d0b58b2a": {
          "model_module": "@jupyter-widgets/controls",
          "model_name": "HTMLModel",
          "model_module_version": "1.5.0",
          "state": {
            "_dom_classes": [],
            "_model_module": "@jupyter-widgets/controls",
            "_model_module_version": "1.5.0",
            "_model_name": "HTMLModel",
            "_view_count": null,
            "_view_module": "@jupyter-widgets/controls",
            "_view_module_version": "1.5.0",
            "_view_name": "HTMLView",
            "description": "",
            "description_tooltip": null,
            "layout": "IPY_MODEL_b8f712822d2e416dabc419c3a0731cb1",
            "placeholder": "​",
            "style": "IPY_MODEL_c2e9c4884e0f41dc937ce904f68530ce",
            "value": "100%"
          }
        },
        "17ead5cddbd8426a80efc82a8d12e2a0": {
          "model_module": "@jupyter-widgets/controls",
          "model_name": "FloatProgressModel",
          "model_module_version": "1.5.0",
          "state": {
            "_dom_classes": [],
            "_model_module": "@jupyter-widgets/controls",
            "_model_module_version": "1.5.0",
            "_model_name": "FloatProgressModel",
            "_view_count": null,
            "_view_module": "@jupyter-widgets/controls",
            "_view_module_version": "1.5.0",
            "_view_name": "ProgressView",
            "bar_style": "success",
            "description": "",
            "description_tooltip": null,
            "layout": "IPY_MODEL_5d009b6bf2e3463786132fb2612c27d2",
            "max": 64,
            "min": 0,
            "orientation": "horizontal",
            "style": "IPY_MODEL_ae1b466829e24b61bb02a233f7e1795d",
            "value": 64
          }
        },
        "a1088cb794d74a32b808993536399b77": {
          "model_module": "@jupyter-widgets/controls",
          "model_name": "HTMLModel",
          "model_module_version": "1.5.0",
          "state": {
            "_dom_classes": [],
            "_model_module": "@jupyter-widgets/controls",
            "_model_module_version": "1.5.0",
            "_model_name": "HTMLModel",
            "_view_count": null,
            "_view_module": "@jupyter-widgets/controls",
            "_view_module_version": "1.5.0",
            "_view_name": "HTMLView",
            "description": "",
            "description_tooltip": null,
            "layout": "IPY_MODEL_26f3a0fa6e07480d8e465852cc92bc6b",
            "placeholder": "​",
            "style": "IPY_MODEL_022dd9f190b848b2a37a122826e53918",
            "value": " 64/64 [01:35&lt;00:00,  1.26s/it]"
          }
        },
        "16d3210693994b18ad35768cfd9a518f": {
          "model_module": "@jupyter-widgets/base",
          "model_name": "LayoutModel",
          "model_module_version": "1.2.0",
          "state": {
            "_model_module": "@jupyter-widgets/base",
            "_model_module_version": "1.2.0",
            "_model_name": "LayoutModel",
            "_view_count": null,
            "_view_module": "@jupyter-widgets/base",
            "_view_module_version": "1.2.0",
            "_view_name": "LayoutView",
            "align_content": null,
            "align_items": null,
            "align_self": null,
            "border": null,
            "bottom": null,
            "display": null,
            "flex": null,
            "flex_flow": null,
            "grid_area": null,
            "grid_auto_columns": null,
            "grid_auto_flow": null,
            "grid_auto_rows": null,
            "grid_column": null,
            "grid_gap": null,
            "grid_row": null,
            "grid_template_areas": null,
            "grid_template_columns": null,
            "grid_template_rows": null,
            "height": null,
            "justify_content": null,
            "justify_items": null,
            "left": null,
            "margin": null,
            "max_height": null,
            "max_width": null,
            "min_height": null,
            "min_width": null,
            "object_fit": null,
            "object_position": null,
            "order": null,
            "overflow": null,
            "overflow_x": null,
            "overflow_y": null,
            "padding": null,
            "right": null,
            "top": null,
            "visibility": null,
            "width": null
          }
        },
        "b8f712822d2e416dabc419c3a0731cb1": {
          "model_module": "@jupyter-widgets/base",
          "model_name": "LayoutModel",
          "model_module_version": "1.2.0",
          "state": {
            "_model_module": "@jupyter-widgets/base",
            "_model_module_version": "1.2.0",
            "_model_name": "LayoutModel",
            "_view_count": null,
            "_view_module": "@jupyter-widgets/base",
            "_view_module_version": "1.2.0",
            "_view_name": "LayoutView",
            "align_content": null,
            "align_items": null,
            "align_self": null,
            "border": null,
            "bottom": null,
            "display": null,
            "flex": null,
            "flex_flow": null,
            "grid_area": null,
            "grid_auto_columns": null,
            "grid_auto_flow": null,
            "grid_auto_rows": null,
            "grid_column": null,
            "grid_gap": null,
            "grid_row": null,
            "grid_template_areas": null,
            "grid_template_columns": null,
            "grid_template_rows": null,
            "height": null,
            "justify_content": null,
            "justify_items": null,
            "left": null,
            "margin": null,
            "max_height": null,
            "max_width": null,
            "min_height": null,
            "min_width": null,
            "object_fit": null,
            "object_position": null,
            "order": null,
            "overflow": null,
            "overflow_x": null,
            "overflow_y": null,
            "padding": null,
            "right": null,
            "top": null,
            "visibility": null,
            "width": null
          }
        },
        "c2e9c4884e0f41dc937ce904f68530ce": {
          "model_module": "@jupyter-widgets/controls",
          "model_name": "DescriptionStyleModel",
          "model_module_version": "1.5.0",
          "state": {
            "_model_module": "@jupyter-widgets/controls",
            "_model_module_version": "1.5.0",
            "_model_name": "DescriptionStyleModel",
            "_view_count": null,
            "_view_module": "@jupyter-widgets/base",
            "_view_module_version": "1.2.0",
            "_view_name": "StyleView",
            "description_width": ""
          }
        },
        "5d009b6bf2e3463786132fb2612c27d2": {
          "model_module": "@jupyter-widgets/base",
          "model_name": "LayoutModel",
          "model_module_version": "1.2.0",
          "state": {
            "_model_module": "@jupyter-widgets/base",
            "_model_module_version": "1.2.0",
            "_model_name": "LayoutModel",
            "_view_count": null,
            "_view_module": "@jupyter-widgets/base",
            "_view_module_version": "1.2.0",
            "_view_name": "LayoutView",
            "align_content": null,
            "align_items": null,
            "align_self": null,
            "border": null,
            "bottom": null,
            "display": null,
            "flex": null,
            "flex_flow": null,
            "grid_area": null,
            "grid_auto_columns": null,
            "grid_auto_flow": null,
            "grid_auto_rows": null,
            "grid_column": null,
            "grid_gap": null,
            "grid_row": null,
            "grid_template_areas": null,
            "grid_template_columns": null,
            "grid_template_rows": null,
            "height": null,
            "justify_content": null,
            "justify_items": null,
            "left": null,
            "margin": null,
            "max_height": null,
            "max_width": null,
            "min_height": null,
            "min_width": null,
            "object_fit": null,
            "object_position": null,
            "order": null,
            "overflow": null,
            "overflow_x": null,
            "overflow_y": null,
            "padding": null,
            "right": null,
            "top": null,
            "visibility": null,
            "width": null
          }
        },
        "ae1b466829e24b61bb02a233f7e1795d": {
          "model_module": "@jupyter-widgets/controls",
          "model_name": "ProgressStyleModel",
          "model_module_version": "1.5.0",
          "state": {
            "_model_module": "@jupyter-widgets/controls",
            "_model_module_version": "1.5.0",
            "_model_name": "ProgressStyleModel",
            "_view_count": null,
            "_view_module": "@jupyter-widgets/base",
            "_view_module_version": "1.2.0",
            "_view_name": "StyleView",
            "bar_color": null,
            "description_width": ""
          }
        },
        "26f3a0fa6e07480d8e465852cc92bc6b": {
          "model_module": "@jupyter-widgets/base",
          "model_name": "LayoutModel",
          "model_module_version": "1.2.0",
          "state": {
            "_model_module": "@jupyter-widgets/base",
            "_model_module_version": "1.2.0",
            "_model_name": "LayoutModel",
            "_view_count": null,
            "_view_module": "@jupyter-widgets/base",
            "_view_module_version": "1.2.0",
            "_view_name": "LayoutView",
            "align_content": null,
            "align_items": null,
            "align_self": null,
            "border": null,
            "bottom": null,
            "display": null,
            "flex": null,
            "flex_flow": null,
            "grid_area": null,
            "grid_auto_columns": null,
            "grid_auto_flow": null,
            "grid_auto_rows": null,
            "grid_column": null,
            "grid_gap": null,
            "grid_row": null,
            "grid_template_areas": null,
            "grid_template_columns": null,
            "grid_template_rows": null,
            "height": null,
            "justify_content": null,
            "justify_items": null,
            "left": null,
            "margin": null,
            "max_height": null,
            "max_width": null,
            "min_height": null,
            "min_width": null,
            "object_fit": null,
            "object_position": null,
            "order": null,
            "overflow": null,
            "overflow_x": null,
            "overflow_y": null,
            "padding": null,
            "right": null,
            "top": null,
            "visibility": null,
            "width": null
          }
        },
        "022dd9f190b848b2a37a122826e53918": {
          "model_module": "@jupyter-widgets/controls",
          "model_name": "DescriptionStyleModel",
          "model_module_version": "1.5.0",
          "state": {
            "_model_module": "@jupyter-widgets/controls",
            "_model_module_version": "1.5.0",
            "_model_name": "DescriptionStyleModel",
            "_view_count": null,
            "_view_module": "@jupyter-widgets/base",
            "_view_module_version": "1.2.0",
            "_view_name": "StyleView",
            "description_width": ""
          }
        },
        "f98fc0d923534d398cb6a59ab956af5a": {
          "model_module": "@jupyter-widgets/controls",
          "model_name": "HTMLModel",
          "model_module_version": "1.5.0",
          "state": {
            "_dom_classes": [],
            "_model_module": "@jupyter-widgets/controls",
            "_model_module_version": "1.5.0",
            "_model_name": "HTMLModel",
            "_view_count": null,
            "_view_module": "@jupyter-widgets/controls",
            "_view_module_version": "1.5.0",
            "_view_name": "HTMLView",
            "description": "",
            "description_tooltip": null,
            "layout": "IPY_MODEL_2235a6c0188e4702bd64cb08623293a2",
            "placeholder": "​",
            "style": "IPY_MODEL_d503b6594e394da180d795f0dcf7e371",
            "value": "<img src=\"data:image/gif;base64,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\" />"
          }
        },
        "2235a6c0188e4702bd64cb08623293a2": {
          "model_module": "@jupyter-widgets/base",
          "model_name": "LayoutModel",
          "model_module_version": "1.2.0",
          "state": {
            "_model_module": "@jupyter-widgets/base",
            "_model_module_version": "1.2.0",
            "_model_name": "LayoutModel",
            "_view_count": null,
            "_view_module": "@jupyter-widgets/base",
            "_view_module_version": "1.2.0",
            "_view_name": "LayoutView",
            "align_content": null,
            "align_items": null,
            "align_self": null,
            "border": null,
            "bottom": null,
            "display": null,
            "flex": null,
            "flex_flow": null,
            "grid_area": null,
            "grid_auto_columns": null,
            "grid_auto_flow": null,
            "grid_auto_rows": null,
            "grid_column": null,
            "grid_gap": null,
            "grid_row": null,
            "grid_template_areas": null,
            "grid_template_columns": null,
            "grid_template_rows": null,
            "height": null,
            "justify_content": null,
            "justify_items": null,
            "left": null,
            "margin": null,
            "max_height": null,
            "max_width": null,
            "min_height": null,
            "min_width": null,
            "object_fit": null,
            "object_position": null,
            "order": null,
            "overflow": null,
            "overflow_x": null,
            "overflow_y": null,
            "padding": null,
            "right": null,
            "top": null,
            "visibility": null,
            "width": null
          }
        },
        "d503b6594e394da180d795f0dcf7e371": {
          "model_module": "@jupyter-widgets/controls",
          "model_name": "DescriptionStyleModel",
          "model_module_version": "1.5.0",
          "state": {
            "_model_module": "@jupyter-widgets/controls",
            "_model_module_version": "1.5.0",
            "_model_name": "DescriptionStyleModel",
            "_view_count": null,
            "_view_module": "@jupyter-widgets/base",
            "_view_module_version": "1.2.0",
            "_view_name": "StyleView",
            "description_width": ""
          }
        },
        "c09dd60cdfe142f7abfd352f3408f05b": {
          "model_module": "@jupyter-widgets/controls",
          "model_name": "HTMLModel",
          "model_module_version": "1.5.0",
          "state": {
            "_dom_classes": [],
            "_model_module": "@jupyter-widgets/controls",
            "_model_module_version": "1.5.0",
            "_model_name": "HTMLModel",
            "_view_count": null,
            "_view_module": "@jupyter-widgets/controls",
            "_view_module_version": "1.5.0",
            "_view_name": "HTMLView",
            "description": "",
            "description_tooltip": null,
            "layout": "IPY_MODEL_a3fd458f87944efab66c65583314c010",
            "placeholder": "​",
            "style": "IPY_MODEL_63e153f99b3d42b9afa7459ca11dfed1",
            "value": "<img src=\"data:image/gif;base64,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\" />"
          }
        },
        "a3fd458f87944efab66c65583314c010": {
          "model_module": "@jupyter-widgets/base",
          "model_name": "LayoutModel",
          "model_module_version": "1.2.0",
          "state": {
            "_model_module": "@jupyter-widgets/base",
            "_model_module_version": "1.2.0",
            "_model_name": "LayoutModel",
            "_view_count": null,
            "_view_module": "@jupyter-widgets/base",
            "_view_module_version": "1.2.0",
            "_view_name": "LayoutView",
            "align_content": null,
            "align_items": null,
            "align_self": null,
            "border": null,
            "bottom": null,
            "display": null,
            "flex": null,
            "flex_flow": null,
            "grid_area": null,
            "grid_auto_columns": null,
            "grid_auto_flow": null,
            "grid_auto_rows": null,
            "grid_column": null,
            "grid_gap": null,
            "grid_row": null,
            "grid_template_areas": null,
            "grid_template_columns": null,
            "grid_template_rows": null,
            "height": null,
            "justify_content": null,
            "justify_items": null,
            "left": null,
            "margin": null,
            "max_height": null,
            "max_width": null,
            "min_height": null,
            "min_width": null,
            "object_fit": null,
            "object_position": null,
            "order": null,
            "overflow": null,
            "overflow_x": null,
            "overflow_y": null,
            "padding": null,
            "right": null,
            "top": null,
            "visibility": null,
            "width": null
          }
        },
        "63e153f99b3d42b9afa7459ca11dfed1": {
          "model_module": "@jupyter-widgets/controls",
          "model_name": "DescriptionStyleModel",
          "model_module_version": "1.5.0",
          "state": {
            "_model_module": "@jupyter-widgets/controls",
            "_model_module_version": "1.5.0",
            "_model_name": "DescriptionStyleModel",
            "_view_count": null,
            "_view_module": "@jupyter-widgets/base",
            "_view_module_version": "1.2.0",
            "_view_name": "StyleView",
            "description_width": ""
          }
        },
        "3155ca56f8684a03bf947b9bda880ef3": {
          "model_module": "@jupyter-widgets/controls",
          "model_name": "HTMLModel",
          "model_module_version": "1.5.0",
          "state": {
            "_dom_classes": [],
            "_model_module": "@jupyter-widgets/controls",
            "_model_module_version": "1.5.0",
            "_model_name": "HTMLModel",
            "_view_count": null,
            "_view_module": "@jupyter-widgets/controls",
            "_view_module_version": "1.5.0",
            "_view_name": "HTMLView",
            "description": "",
            "description_tooltip": null,
            "layout": "IPY_MODEL_c56f5fa43a1545b385d95af4998fd291",
            "placeholder": "​",
            "style": "IPY_MODEL_0a98cf214f7a4114a78e4ea4a47942ae",
            "value": "<img src=\"data:image/gif;base64,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\" />"
          }
        },
        "c56f5fa43a1545b385d95af4998fd291": {
          "model_module": "@jupyter-widgets/base",
          "model_name": "LayoutModel",
          "model_module_version": "1.2.0",
          "state": {
            "_model_module": "@jupyter-widgets/base",
            "_model_module_version": "1.2.0",
            "_model_name": "LayoutModel",
            "_view_count": null,
            "_view_module": "@jupyter-widgets/base",
            "_view_module_version": "1.2.0",
            "_view_name": "LayoutView",
            "align_content": null,
            "align_items": null,
            "align_self": null,
            "border": null,
            "bottom": null,
            "display": null,
            "flex": null,
            "flex_flow": null,
            "grid_area": null,
            "grid_auto_columns": null,
            "grid_auto_flow": null,
            "grid_auto_rows": null,
            "grid_column": null,
            "grid_gap": null,
            "grid_row": null,
            "grid_template_areas": null,
            "grid_template_columns": null,
            "grid_template_rows": null,
            "height": null,
            "justify_content": null,
            "justify_items": null,
            "left": null,
            "margin": null,
            "max_height": null,
            "max_width": null,
            "min_height": null,
            "min_width": null,
            "object_fit": null,
            "object_position": null,
            "order": null,
            "overflow": null,
            "overflow_x": null,
            "overflow_y": null,
            "padding": null,
            "right": null,
            "top": null,
            "visibility": null,
            "width": null
          }
        },
        "0a98cf214f7a4114a78e4ea4a47942ae": {
          "model_module": "@jupyter-widgets/controls",
          "model_name": "DescriptionStyleModel",
          "model_module_version": "1.5.0",
          "state": {
            "_model_module": "@jupyter-widgets/controls",
            "_model_module_version": "1.5.0",
            "_model_name": "DescriptionStyleModel",
            "_view_count": null,
            "_view_module": "@jupyter-widgets/base",
            "_view_module_version": "1.2.0",
            "_view_name": "StyleView",
            "description_width": ""
          }
        },
        "ba26492b5a574c70b6e01be9b5b8e2b6": {
          "model_module": "@jupyter-widgets/controls",
          "model_name": "HTMLModel",
          "model_module_version": "1.5.0",
          "state": {
            "_dom_classes": [],
            "_model_module": "@jupyter-widgets/controls",
            "_model_module_version": "1.5.0",
            "_model_name": "HTMLModel",
            "_view_count": null,
            "_view_module": "@jupyter-widgets/controls",
            "_view_module_version": "1.5.0",
            "_view_name": "HTMLView",
            "description": "",
            "description_tooltip": null,
            "layout": "IPY_MODEL_c6957073ed024a828af4acdb1af583b0",
            "placeholder": "​",
            "style": "IPY_MODEL_e98578d4da714c96b9defee2decfbbf3",
            "value": "<img src=\"data:image/gif;base64,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\" />"
          }
        },
        "c6957073ed024a828af4acdb1af583b0": {
          "model_module": "@jupyter-widgets/base",
          "model_name": "LayoutModel",
          "model_module_version": "1.2.0",
          "state": {
            "_model_module": "@jupyter-widgets/base",
            "_model_module_version": "1.2.0",
            "_model_name": "LayoutModel",
            "_view_count": null,
            "_view_module": "@jupyter-widgets/base",
            "_view_module_version": "1.2.0",
            "_view_name": "LayoutView",
            "align_content": null,
            "align_items": null,
            "align_self": null,
            "border": null,
            "bottom": null,
            "display": null,
            "flex": null,
            "flex_flow": null,
            "grid_area": null,
            "grid_auto_columns": null,
            "grid_auto_flow": null,
            "grid_auto_rows": null,
            "grid_column": null,
            "grid_gap": null,
            "grid_row": null,
            "grid_template_areas": null,
            "grid_template_columns": null,
            "grid_template_rows": null,
            "height": null,
            "justify_content": null,
            "justify_items": null,
            "left": null,
            "margin": null,
            "max_height": null,
            "max_width": null,
            "min_height": null,
            "min_width": null,
            "object_fit": null,
            "object_position": null,
            "order": null,
            "overflow": null,
            "overflow_x": null,
            "overflow_y": null,
            "padding": null,
            "right": null,
            "top": null,
            "visibility": null,
            "width": null
          }
        },
        "e98578d4da714c96b9defee2decfbbf3": {
          "model_module": "@jupyter-widgets/controls",
          "model_name": "DescriptionStyleModel",
          "model_module_version": "1.5.0",
          "state": {
            "_model_module": "@jupyter-widgets/controls",
            "_model_module_version": "1.5.0",
            "_model_name": "DescriptionStyleModel",
            "_view_count": null,
            "_view_module": "@jupyter-widgets/base",
            "_view_module_version": "1.2.0",
            "_view_name": "StyleView",
            "description_width": ""
          }
        }
      }
    }
  },
  "nbformat": 4,
  "nbformat_minor": 5
}